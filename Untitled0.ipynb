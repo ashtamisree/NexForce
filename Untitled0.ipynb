{
  "nbformat": 4,
  "nbformat_minor": 0,
  "metadata": {
    "colab": {
      "provenance": [],
      "authorship_tag": "ABX9TyOC+GDzV6yi1rgqEc8Pvsh8",
      "include_colab_link": true
    },
    "kernelspec": {
      "name": "python3",
      "display_name": "Python 3"
    },
    "language_info": {
      "name": "python"
    }
  },
  "cells": [
    {
      "cell_type": "markdown",
      "metadata": {
        "id": "view-in-github",
        "colab_type": "text"
      },
      "source": [
        "<a href=\"https://colab.research.google.com/github/ashtamisree/NexForce/blob/main/Untitled0.ipynb\" target=\"_parent\"><img src=\"https://colab.research.google.com/assets/colab-badge.svg\" alt=\"Open In Colab\"/></a>"
      ]
    },
    {
      "cell_type": "code",
      "execution_count": 2,
      "metadata": {
        "id": "ReK8wnn6hVKP"
      },
      "outputs": [],
      "source": [
        "import pandas as pd"
      ]
    },
    {
      "cell_type": "code",
      "source": [
        "path=\"/content/drive/MyDrive/datasheet/SOCR-HeightWeight (1).csv\"\n",
        "df=pd.read_csv(path)\n",
        "se_c = df.iloc[:,1]\n",
        "th_c = df.iloc[:,2]\n",
        "mean1 = se_c.mean()\n",
        "mean2 = th_c.mean()\n",
        "mode1 = se_c.mode().iloc[0]\n",
        "mode2 = th_c.mode().iloc[0]\n",
        "median1 = se_c.median()\n",
        "median2 = th_c.median()\n",
        "print(\"Mean of height:\",mean1)\n",
        "print(\"\\nMean of weight:\",mean2)\n",
        "print(\"\\nMode of height:\",mode1)\n",
        "print(\"\\nMode of weight:\",mode2)\n",
        "print(\"\\nMedian of height:\",median1)\n",
        "print(\"\\nMedian of weight:\",median2)"
      ],
      "metadata": {
        "colab": {
          "base_uri": "https://localhost:8080/"
        },
        "id": "F2MCznF_ihXc",
        "outputId": "4a64f0b4-5075-4948-fc65-c5193a4e7da4"
      },
      "execution_count": 6,
      "outputs": [
        {
          "output_type": "stream",
          "name": "stdout",
          "text": [
            "Mean of height: 67.99311359679999\n",
            "\n",
            "Mean of weight: 127.07942116080001\n",
            "\n",
            "Mode of height: 65.65796\n",
            "\n",
            "Mode of weight: 124.7975\n",
            "\n",
            "Median of height: 67.9957\n",
            "\n",
            "Median of weight: 127.15775\n"
          ]
        }
      ]
    },
    {
      "cell_type": "code",
      "source": [
        "from google.colab import drive\n",
        "drive.mount('/content/drive')"
      ],
      "metadata": {
        "colab": {
          "base_uri": "https://localhost:8080/"
        },
        "id": "k8uSg0ioha5o",
        "outputId": "696bc777-0552-4c7d-90f4-023b91da6b43"
      },
      "execution_count": 1,
      "outputs": [
        {
          "output_type": "stream",
          "name": "stdout",
          "text": [
            "Mounted at /content/drive\n"
          ]
        }
      ]
    }
  ]
}